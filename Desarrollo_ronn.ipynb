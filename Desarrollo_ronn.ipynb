{
 "cells": [
  {
   "attachments": {},
   "cell_type": "markdown",
   "metadata": {},
   "source": [
    "# Proyecto Final – Ciencia de Datos en Python"
   ]
  },
  {
   "attachments": {},
   "cell_type": "markdown",
   "metadata": {},
   "source": [
    "- Proyecto: Ingeniería de Datos con Python\n",
    "- Tema: Python, Pandas, SQL, ETL, AWS\n",
    "- Fecha y Hora de Entrega: 10/04/2022 25:55\n",
    "- Formato de Entrega: Archivos de Construcción y Video.\n",
    "- Grupo: Grupos de 2 o 3 personas\n",
    "- Calificación: Presentación por medio de Vídeo"
   ]
  },
  {
   "attachments": {},
   "cell_type": "markdown",
   "metadata": {},
   "source": [
    "### ATENCIÓN:\n",
    "Todos los proyectos consumen tiempo, así que trate de empezar lo más\n",
    "pronto que pueda. Recuerde que el proyecto es en GRUPOS, es decir, no puede\n",
    "trabajar junto a otros compañeros de otros grupos.\n"
   ]
  },
  {
   "attachments": {},
   "cell_type": "markdown",
   "metadata": {},
   "source": [
    "### DESCRIPCIÓN:\n",
    "Para este proyecto usted deberá desarrollar un pipeline de\n",
    "ingeniería utilizando Python, SQL y AWS como herramientas de desarrollo, su\n",
    "proyecto debe contar con los siguientes componentes:"
   ]
  },
  {
   "attachments": {},
   "cell_type": "markdown",
   "metadata": {},
   "source": [
    "- Scope: Scope del Proyecto y descripción de fuentes de información,\n",
    "- Exploración: Exploración de la data para definir el modelo de datos,\n",
    "- Modelo de datos: Deberá definer el modelo de datos que usará para su\n",
    "Proyecto ya sea un DW o un DL,\n",
    "- Procesamiento: deberá definer todos su Código como un conjunto de scripts\n",
    "en Python, los cuales extraigan, transofrmen y cargen la data.\n",
    "- Analitica: Deberá plantear al menos 5 preguntas de análisis que puedan ser\n",
    "resueltas con la estructura que definio.\n",
    "- Reporte: Un documento de Markdown el cual incluya todos los elementos\n",
    "solicitados anteriormente."
   ]
  },
  {
   "attachments": {},
   "cell_type": "markdown",
   "metadata": {},
   "source": [
    "### DETALLES TECNICOS:\n",
    "A continuación se describen los detalles técnicos mínimos\n",
    "que su projecto debe cumplir:"
   ]
  },
  {
   "attachments": {},
   "cell_type": "markdown",
   "metadata": {},
   "source": [
    "Como fuentes de infomrmación deberá usilizar al menos una base de datos\n",
    "montada en RDS y dos archivos externos almacenados en S3.\n",
    "- El procesamiento puede realizarlo en un maquina local o en una instancia de\n",
    "EC2 corriendo Python.\n",
    "- La salida deberá ser sobre Redshift si su salida es en DW o sobre S3 si su salida\n",
    "es un DL.\n",
    " El Notebook le servirá para constuir todos los procedimientos, sin embargo\n",
    "su proyecto debe correr con scripts de Python.\n",
    "- Notar que no puede usar SQL para hacer la construcción de ningína estructura\n",
    "salvo para leer de tablas almacenadas en las bases de datos es decir SELECT *\n",
    "FROM tabla."
   ]
  },
  {
   "attachments": {},
   "cell_type": "markdown",
   "metadata": {},
   "source": [
    "Puede utilizar las fuentes de información y diseño que deseen para resolver el\n",
    "problema planteado, a continuación se le comparten algunas fuentes de datos:"
   ]
  },
  {
   "attachments": {},
   "cell_type": "markdown",
   "metadata": {},
   "source": [
    "- Google Datasets: https://datasetsearch.research.google.com\n",
    "- Kaggle Datasets: https://www.kaggle.com/datasets\n",
    "- Github Datasets: https://github.com/awesomedata/awesome-public-datasets\n",
    "- Data.Gov: https://catalog.data.gov/dataset\n",
    "- 21 Free Datasources: https://www.dataquest.io/blog/free-datasets-forprojects/\n",
    "- KdNuggets: https://www.kdnuggets.com/datasets/index.html\n",
    "- ICS Datasets: https://archive.ics.uci.edu/ml/datasets.php\n",
    "- Reddit Dataset: https://www.reddit.com/r/datasets/"
   ]
  },
  {
   "attachments": {},
   "cell_type": "markdown",
   "metadata": {},
   "source": [
    "### ENTREGA: \n",
    "Como entrega deberá publicar todos los archivos utilizados por medio\n",
    "de un link de Git, incluyendo el reporte de desarrollo, los notebooks utiilzados, los y\n",
    "los scripts finales. Adicinalmente deberá hacer un video de 5 a 7 minitos máximo\n",
    "donde explique todos los pasos que realizó para desarrollar su proyecto, es decir\n",
    "describir todos los elementos de su proyecto."
   ]
  }
 ],
 "metadata": {
  "kernelspec": {
   "display_name": ".final",
   "language": "python",
   "name": "python3"
  },
  "language_info": {
   "codemirror_mode": {
    "name": "ipython",
    "version": 3
   },
   "file_extension": ".py",
   "mimetype": "text/x-python",
   "name": "python",
   "nbconvert_exporter": "python",
   "pygments_lexer": "ipython3",
   "version": "3.9.13"
  },
  "orig_nbformat": 4
 },
 "nbformat": 4,
 "nbformat_minor": 2
}
